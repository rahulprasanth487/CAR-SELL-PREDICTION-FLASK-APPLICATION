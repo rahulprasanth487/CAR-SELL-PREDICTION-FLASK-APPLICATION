{
 "cells": [
  {
   "cell_type": "code",
   "execution_count": 1,
   "id": "edbf020b",
   "metadata": {
    "execution": {
     "iopub.execute_input": "2023-02-22T17:35:37.484500Z",
     "iopub.status.busy": "2023-02-22T17:35:37.483616Z",
     "iopub.status.idle": "2023-02-22T17:35:38.686544Z",
     "shell.execute_reply": "2023-02-22T17:35:38.684718Z"
    },
    "papermill": {
     "duration": 1.217611,
     "end_time": "2023-02-22T17:35:38.690473",
     "exception": false,
     "start_time": "2023-02-22T17:35:37.472862",
     "status": "completed"
    },
    "tags": []
   },
   "outputs": [],
   "source": [
    "import pandas as pd\n",
    "import numpy as np\n",
    "import matplotlib.pyplot as plt\n",
    "import seaborn as sns\n",
    "import warnings\n",
    "warnings.filterwarnings('ignore')\n",
    "pd.set_option('display.max_columns',None)"
   ]
  },
  {
   "cell_type": "code",
   "execution_count": 2,
   "id": "510b9f0b",
   "metadata": {
    "execution": {
     "iopub.execute_input": "2023-02-22T17:35:38.711866Z",
     "iopub.status.busy": "2023-02-22T17:35:38.711378Z",
     "iopub.status.idle": "2023-02-22T17:35:39.718172Z",
     "shell.execute_reply": "2023-02-22T17:35:39.716927Z"
    },
    "papermill": {
     "duration": 1.021177,
     "end_time": "2023-02-22T17:35:39.721568",
     "exception": false,
     "start_time": "2023-02-22T17:35:38.700391",
     "status": "completed"
    },
    "tags": []
   },
   "outputs": [
    {
     "data": {
      "text/html": [
       "<div>\n",
       "<style scoped>\n",
       "    .dataframe tbody tr th:only-of-type {\n",
       "        vertical-align: middle;\n",
       "    }\n",
       "\n",
       "    .dataframe tbody tr th {\n",
       "        vertical-align: top;\n",
       "    }\n",
       "\n",
       "    .dataframe thead th {\n",
       "        text-align: right;\n",
       "    }\n",
       "</style>\n",
       "<table border=\"1\" class=\"dataframe\">\n",
       "  <thead>\n",
       "    <tr style=\"text-align: right;\">\n",
       "      <th></th>\n",
       "      <th>id</th>\n",
       "      <th>Gender</th>\n",
       "      <th>Age</th>\n",
       "      <th>Driving_License</th>\n",
       "      <th>Region_Code</th>\n",
       "      <th>Previously_Insured</th>\n",
       "      <th>Vehicle_Age</th>\n",
       "      <th>Vehicle_Damage</th>\n",
       "      <th>Annual_Premium</th>\n",
       "      <th>Policy_Sales_Channel</th>\n",
       "      <th>Vintage</th>\n",
       "      <th>Response</th>\n",
       "    </tr>\n",
       "  </thead>\n",
       "  <tbody>\n",
       "    <tr>\n",
       "      <th>0</th>\n",
       "      <td>1</td>\n",
       "      <td>Male</td>\n",
       "      <td>44</td>\n",
       "      <td>1</td>\n",
       "      <td>28.0</td>\n",
       "      <td>0</td>\n",
       "      <td>&gt; 2 Years</td>\n",
       "      <td>Yes</td>\n",
       "      <td>40454.0</td>\n",
       "      <td>26.0</td>\n",
       "      <td>217</td>\n",
       "      <td>1</td>\n",
       "    </tr>\n",
       "    <tr>\n",
       "      <th>1</th>\n",
       "      <td>2</td>\n",
       "      <td>Male</td>\n",
       "      <td>76</td>\n",
       "      <td>1</td>\n",
       "      <td>3.0</td>\n",
       "      <td>0</td>\n",
       "      <td>1-2 Year</td>\n",
       "      <td>No</td>\n",
       "      <td>33536.0</td>\n",
       "      <td>26.0</td>\n",
       "      <td>183</td>\n",
       "      <td>0</td>\n",
       "    </tr>\n",
       "    <tr>\n",
       "      <th>2</th>\n",
       "      <td>3</td>\n",
       "      <td>Male</td>\n",
       "      <td>47</td>\n",
       "      <td>1</td>\n",
       "      <td>28.0</td>\n",
       "      <td>0</td>\n",
       "      <td>&gt; 2 Years</td>\n",
       "      <td>Yes</td>\n",
       "      <td>38294.0</td>\n",
       "      <td>26.0</td>\n",
       "      <td>27</td>\n",
       "      <td>1</td>\n",
       "    </tr>\n",
       "    <tr>\n",
       "      <th>3</th>\n",
       "      <td>4</td>\n",
       "      <td>Male</td>\n",
       "      <td>21</td>\n",
       "      <td>1</td>\n",
       "      <td>11.0</td>\n",
       "      <td>1</td>\n",
       "      <td>&lt; 1 Year</td>\n",
       "      <td>No</td>\n",
       "      <td>28619.0</td>\n",
       "      <td>152.0</td>\n",
       "      <td>203</td>\n",
       "      <td>0</td>\n",
       "    </tr>\n",
       "    <tr>\n",
       "      <th>4</th>\n",
       "      <td>5</td>\n",
       "      <td>Female</td>\n",
       "      <td>29</td>\n",
       "      <td>1</td>\n",
       "      <td>41.0</td>\n",
       "      <td>1</td>\n",
       "      <td>&lt; 1 Year</td>\n",
       "      <td>No</td>\n",
       "      <td>27496.0</td>\n",
       "      <td>152.0</td>\n",
       "      <td>39</td>\n",
       "      <td>0</td>\n",
       "    </tr>\n",
       "  </tbody>\n",
       "</table>\n",
       "</div>"
      ],
      "text/plain": [
       "   id  Gender  Age  Driving_License  Region_Code  Previously_Insured  \\\n",
       "0   1    Male   44                1         28.0                   0   \n",
       "1   2    Male   76                1          3.0                   0   \n",
       "2   3    Male   47                1         28.0                   0   \n",
       "3   4    Male   21                1         11.0                   1   \n",
       "4   5  Female   29                1         41.0                   1   \n",
       "\n",
       "  Vehicle_Age Vehicle_Damage  Annual_Premium  Policy_Sales_Channel  Vintage  \\\n",
       "0   > 2 Years            Yes         40454.0                  26.0      217   \n",
       "1    1-2 Year             No         33536.0                  26.0      183   \n",
       "2   > 2 Years            Yes         38294.0                  26.0       27   \n",
       "3    < 1 Year             No         28619.0                 152.0      203   \n",
       "4    < 1 Year             No         27496.0                 152.0       39   \n",
       "\n",
       "   Response  \n",
       "0         1  \n",
       "1         0  \n",
       "2         1  \n",
       "3         0  \n",
       "4         0  "
      ]
     },
     "execution_count": 2,
     "metadata": {},
     "output_type": "execute_result"
    }
   ],
   "source": [
    "df_train = pd.read_csv('train.csv')\n",
    "df_train.head()"
   ]
  },
  {
   "cell_type": "code",
   "execution_count": 3,
   "id": "683835e3",
   "metadata": {
    "execution": {
     "iopub.execute_input": "2023-02-22T17:35:39.742547Z",
     "iopub.status.busy": "2023-02-22T17:35:39.742073Z",
     "iopub.status.idle": "2023-02-22T17:35:39.830328Z",
     "shell.execute_reply": "2023-02-22T17:35:39.828637Z"
    },
    "papermill": {
     "duration": 0.102619,
     "end_time": "2023-02-22T17:35:39.833770",
     "exception": false,
     "start_time": "2023-02-22T17:35:39.731151",
     "status": "completed"
    },
    "tags": []
   },
   "outputs": [
    {
     "name": "stdout",
     "output_type": "stream",
     "text": [
      "<class 'pandas.core.frame.DataFrame'>\n",
      "RangeIndex: 381109 entries, 0 to 381108\n",
      "Data columns (total 12 columns):\n",
      " #   Column                Non-Null Count   Dtype  \n",
      "---  ------                --------------   -----  \n",
      " 0   id                    381109 non-null  int64  \n",
      " 1   Gender                381109 non-null  object \n",
      " 2   Age                   381109 non-null  int64  \n",
      " 3   Driving_License       381109 non-null  int64  \n",
      " 4   Region_Code           381109 non-null  float64\n",
      " 5   Previously_Insured    381109 non-null  int64  \n",
      " 6   Vehicle_Age           381109 non-null  object \n",
      " 7   Vehicle_Damage        381109 non-null  object \n",
      " 8   Annual_Premium        381109 non-null  float64\n",
      " 9   Policy_Sales_Channel  381109 non-null  float64\n",
      " 10  Vintage               381109 non-null  int64  \n",
      " 11  Response              381109 non-null  int64  \n",
      "dtypes: float64(3), int64(6), object(3)\n",
      "memory usage: 34.9+ MB\n"
     ]
    }
   ],
   "source": [
    "df_train.info()"
   ]
  },
  {
   "cell_type": "code",
   "execution_count": 4,
   "id": "a680641e",
   "metadata": {
    "execution": {
     "iopub.execute_input": "2023-02-22T17:35:39.854962Z",
     "iopub.status.busy": "2023-02-22T17:35:39.854530Z",
     "iopub.status.idle": "2023-02-22T17:35:40.004958Z",
     "shell.execute_reply": "2023-02-22T17:35:40.003138Z"
    },
    "papermill": {
     "duration": 0.164742,
     "end_time": "2023-02-22T17:35:40.008367",
     "exception": false,
     "start_time": "2023-02-22T17:35:39.843625",
     "status": "completed"
    },
    "tags": []
   },
   "outputs": [
    {
     "data": {
      "text/html": [
       "<div>\n",
       "<style scoped>\n",
       "    .dataframe tbody tr th:only-of-type {\n",
       "        vertical-align: middle;\n",
       "    }\n",
       "\n",
       "    .dataframe tbody tr th {\n",
       "        vertical-align: top;\n",
       "    }\n",
       "\n",
       "    .dataframe thead th {\n",
       "        text-align: right;\n",
       "    }\n",
       "</style>\n",
       "<table border=\"1\" class=\"dataframe\">\n",
       "  <thead>\n",
       "    <tr style=\"text-align: right;\">\n",
       "      <th></th>\n",
       "      <th>id</th>\n",
       "      <th>Age</th>\n",
       "      <th>Driving_License</th>\n",
       "      <th>Region_Code</th>\n",
       "      <th>Previously_Insured</th>\n",
       "      <th>Annual_Premium</th>\n",
       "      <th>Policy_Sales_Channel</th>\n",
       "      <th>Vintage</th>\n",
       "      <th>Response</th>\n",
       "    </tr>\n",
       "  </thead>\n",
       "  <tbody>\n",
       "    <tr>\n",
       "      <th>count</th>\n",
       "      <td>381109.000000</td>\n",
       "      <td>381109.000000</td>\n",
       "      <td>381109.000000</td>\n",
       "      <td>381109.000000</td>\n",
       "      <td>381109.000000</td>\n",
       "      <td>381109.000000</td>\n",
       "      <td>381109.000000</td>\n",
       "      <td>381109.000000</td>\n",
       "      <td>381109.000000</td>\n",
       "    </tr>\n",
       "    <tr>\n",
       "      <th>mean</th>\n",
       "      <td>190555.000000</td>\n",
       "      <td>38.822584</td>\n",
       "      <td>0.997869</td>\n",
       "      <td>26.388807</td>\n",
       "      <td>0.458210</td>\n",
       "      <td>30564.389581</td>\n",
       "      <td>112.034295</td>\n",
       "      <td>154.347397</td>\n",
       "      <td>0.122563</td>\n",
       "    </tr>\n",
       "    <tr>\n",
       "      <th>std</th>\n",
       "      <td>110016.836208</td>\n",
       "      <td>15.511611</td>\n",
       "      <td>0.046110</td>\n",
       "      <td>13.229888</td>\n",
       "      <td>0.498251</td>\n",
       "      <td>17213.155057</td>\n",
       "      <td>54.203995</td>\n",
       "      <td>83.671304</td>\n",
       "      <td>0.327936</td>\n",
       "    </tr>\n",
       "    <tr>\n",
       "      <th>min</th>\n",
       "      <td>1.000000</td>\n",
       "      <td>20.000000</td>\n",
       "      <td>0.000000</td>\n",
       "      <td>0.000000</td>\n",
       "      <td>0.000000</td>\n",
       "      <td>2630.000000</td>\n",
       "      <td>1.000000</td>\n",
       "      <td>10.000000</td>\n",
       "      <td>0.000000</td>\n",
       "    </tr>\n",
       "    <tr>\n",
       "      <th>25%</th>\n",
       "      <td>95278.000000</td>\n",
       "      <td>25.000000</td>\n",
       "      <td>1.000000</td>\n",
       "      <td>15.000000</td>\n",
       "      <td>0.000000</td>\n",
       "      <td>24405.000000</td>\n",
       "      <td>29.000000</td>\n",
       "      <td>82.000000</td>\n",
       "      <td>0.000000</td>\n",
       "    </tr>\n",
       "    <tr>\n",
       "      <th>50%</th>\n",
       "      <td>190555.000000</td>\n",
       "      <td>36.000000</td>\n",
       "      <td>1.000000</td>\n",
       "      <td>28.000000</td>\n",
       "      <td>0.000000</td>\n",
       "      <td>31669.000000</td>\n",
       "      <td>133.000000</td>\n",
       "      <td>154.000000</td>\n",
       "      <td>0.000000</td>\n",
       "    </tr>\n",
       "    <tr>\n",
       "      <th>75%</th>\n",
       "      <td>285832.000000</td>\n",
       "      <td>49.000000</td>\n",
       "      <td>1.000000</td>\n",
       "      <td>35.000000</td>\n",
       "      <td>1.000000</td>\n",
       "      <td>39400.000000</td>\n",
       "      <td>152.000000</td>\n",
       "      <td>227.000000</td>\n",
       "      <td>0.000000</td>\n",
       "    </tr>\n",
       "    <tr>\n",
       "      <th>max</th>\n",
       "      <td>381109.000000</td>\n",
       "      <td>85.000000</td>\n",
       "      <td>1.000000</td>\n",
       "      <td>52.000000</td>\n",
       "      <td>1.000000</td>\n",
       "      <td>540165.000000</td>\n",
       "      <td>163.000000</td>\n",
       "      <td>299.000000</td>\n",
       "      <td>1.000000</td>\n",
       "    </tr>\n",
       "  </tbody>\n",
       "</table>\n",
       "</div>"
      ],
      "text/plain": [
       "                  id            Age  Driving_License    Region_Code  \\\n",
       "count  381109.000000  381109.000000    381109.000000  381109.000000   \n",
       "mean   190555.000000      38.822584         0.997869      26.388807   \n",
       "std    110016.836208      15.511611         0.046110      13.229888   \n",
       "min         1.000000      20.000000         0.000000       0.000000   \n",
       "25%     95278.000000      25.000000         1.000000      15.000000   \n",
       "50%    190555.000000      36.000000         1.000000      28.000000   \n",
       "75%    285832.000000      49.000000         1.000000      35.000000   \n",
       "max    381109.000000      85.000000         1.000000      52.000000   \n",
       "\n",
       "       Previously_Insured  Annual_Premium  Policy_Sales_Channel  \\\n",
       "count       381109.000000   381109.000000         381109.000000   \n",
       "mean             0.458210    30564.389581            112.034295   \n",
       "std              0.498251    17213.155057             54.203995   \n",
       "min              0.000000     2630.000000              1.000000   \n",
       "25%              0.000000    24405.000000             29.000000   \n",
       "50%              0.000000    31669.000000            133.000000   \n",
       "75%              1.000000    39400.000000            152.000000   \n",
       "max              1.000000   540165.000000            163.000000   \n",
       "\n",
       "             Vintage       Response  \n",
       "count  381109.000000  381109.000000  \n",
       "mean      154.347397       0.122563  \n",
       "std        83.671304       0.327936  \n",
       "min        10.000000       0.000000  \n",
       "25%        82.000000       0.000000  \n",
       "50%       154.000000       0.000000  \n",
       "75%       227.000000       0.000000  \n",
       "max       299.000000       1.000000  "
      ]
     },
     "execution_count": 4,
     "metadata": {},
     "output_type": "execute_result"
    }
   ],
   "source": [
    "df_train.describe()"
   ]
  },
  {
   "cell_type": "markdown",
   "id": "86752096",
   "metadata": {
    "papermill": {
     "duration": 0.009402,
     "end_time": "2023-02-22T17:35:40.027812",
     "exception": false,
     "start_time": "2023-02-22T17:35:40.018410",
     "status": "completed"
    },
    "tags": []
   },
   "source": [
    "# Exploratory Data Analysis"
   ]
  },
  {
   "cell_type": "markdown",
   "id": "fd6cbc7b",
   "metadata": {
    "papermill": {
     "duration": 0.009246,
     "end_time": "2023-02-22T17:35:40.046743",
     "exception": false,
     "start_time": "2023-02-22T17:35:40.037497",
     "status": "completed"
    },
    "tags": []
   },
   "source": [
    "**1. Target variable**"
   ]
  },
  {
   "cell_type": "code",
   "execution_count": 5,
   "id": "9eca91dd",
   "metadata": {
    "execution": {
     "iopub.execute_input": "2023-02-22T17:35:40.067924Z",
     "iopub.status.busy": "2023-02-22T17:35:40.067427Z",
     "iopub.status.idle": "2023-02-22T17:35:40.355693Z",
     "shell.execute_reply": "2023-02-22T17:35:40.354364Z"
    },
    "papermill": {
     "duration": 0.302428,
     "end_time": "2023-02-22T17:35:40.358732",
     "exception": false,
     "start_time": "2023-02-22T17:35:40.056304",
     "status": "completed"
    },
    "tags": []
   },
   "outputs": [
    {
     "data": {
      "text/plain": [
       "<AxesSubplot:xlabel='Response', ylabel='count'>"
      ]
     },
     "execution_count": 5,
     "metadata": {},
     "output_type": "execute_result"
    },
    {
     "data": {
      "image/png": "[encoded data removed]",
      "text/plain": [
       "<Figure size 432x288 with 1 Axes>"
      ]
     },
     "metadata": {
      "needs_background": "light"
     },
     "output_type": "display_data"
    }
   ],
   "source": [
    "sns.countplot(data=df_train,x='Response')"
   ]
  },
  {
   "cell_type": "markdown",
   "id": "782cbd3f",
   "metadata": {
    "papermill": {
     "duration": 0.009833,
     "end_time": "2023-02-22T17:35:40.378884",
     "exception": false,
     "start_time": "2023-02-22T17:35:40.369051",
     "status": "completed"
    },
    "tags": []
   },
   "source": [
    "**2. Gender**"
   ]
  },
  {
   "cell_type": "code",
   "execution_count": 6,
   "id": "54bb2e9e",
   "metadata": {
    "execution": {
     "iopub.execute_input": "2023-02-22T17:35:40.401366Z",
     "iopub.status.busy": "2023-02-22T17:35:40.400829Z",
     "iopub.status.idle": "2023-02-22T17:35:40.839314Z",
     "shell.execute_reply": "2023-02-22T17:35:40.838338Z"
    },
    "papermill": {
     "duration": 0.453112,
     "end_time": "2023-02-22T17:35:40.842138",
     "exception": false,
     "start_time": "2023-02-22T17:35:40.389026",
     "status": "completed"
    },
    "tags": []
   },
   "outputs": [
    {
     "data": {
      "text/plain": [
       "<AxesSubplot:xlabel='Gender', ylabel='count'>"
      ]
     },
     "execution_count": 6,
     "metadata": {},
     "output_type": "execute_result"
    },
    {
     "data": {
      "image/png": "[encoded data removed]",
      "text/plain": [
       "<Figure size 432x288 with 1 Axes>"
      ]
     },
     "metadata": {
      "needs_background": "light"
     },
     "output_type": "display_data"
    }
   ],
   "source": [
    "sns.countplot(data=df_train,x='Gender')"
   ]
  },
  {
   "cell_type": "code",
   "execution_count": 7,
   "id": "37563fad",
   "metadata": {
    "execution": {
     "iopub.execute_input": "2023-02-22T17:35:40.867519Z",
     "iopub.status.busy": "2023-02-22T17:35:40.867053Z",
     "iopub.status.idle": "2023-02-22T17:35:41.175481Z",
     "shell.execute_reply": "2023-02-22T17:35:41.173923Z"
    },
    "papermill": {
     "duration": 0.325445,
     "end_time": "2023-02-22T17:35:41.179277",
     "exception": false,
     "start_time": "2023-02-22T17:35:40.853832",
     "status": "completed"
    },
    "tags": []
   },
   "outputs": [
    {
     "data": {
      "text/plain": [
       "<AxesSubplot:xlabel='Response', ylabel='count'>"
      ]
     },
     "execution_count": 7,
     "metadata": {},
     "output_type": "execute_result"
    },
    {
     "data": {
      "image/png": "[encoded data removed]",
      "text/plain": [
       "<Figure size 432x288 with 1 Axes>"
      ]
     },
     "metadata": {
      "needs_background": "light"
     },
     "output_type": "display_data"
    }
   ],
   "source": [
    "df_res_gen = df_train.groupby(['Response','Gender']).size().reset_index(name='count')\n",
    "sns.barplot(data=df_res_gen,x='Response',y='count',hue='Gender')"
   ]
  },
  {
   "cell_type": "markdown",
   "id": "89ce6f34",
   "metadata": {
    "papermill": {
     "duration": 0.012056,
     "end_time": "2023-02-22T17:35:41.203988",
     "exception": false,
     "start_time": "2023-02-22T17:35:41.191932",
     "status": "completed"
    },
    "tags": []
   },
   "source": [
    "**3. Age**"
   ]
  },
  {
   "cell_type": "code",
   "execution_count": 8,
   "id": "b5fa008d",
   "metadata": {
    "execution": {
     "iopub.execute_input": "2023-02-22T17:35:41.230924Z",
     "iopub.status.busy": "2023-02-22T17:35:41.230465Z",
     "iopub.status.idle": "2023-02-22T17:35:43.414571Z",
     "shell.execute_reply": "2023-02-22T17:35:43.412378Z"
    },
    "papermill": {
     "duration": 2.201668,
     "end_time": "2023-02-22T17:35:43.417937",
     "exception": false,
     "start_time": "2023-02-22T17:35:41.216269",
     "status": "completed"
    },
    "tags": []
   },
   "outputs": [
    {
     "data": {
      "text/plain": [
       "<AxesSubplot:xlabel='Age'>"
      ]
     },
     "execution_count": 8,
     "metadata": {},
     "output_type": "execute_result"
    },
    {
     "data": {
      "image/png": "[encoded data removed]",
      "text/plain": [
       "<Figure size 1080x360 with 2 Axes>"
      ]
     },
     "metadata": {
      "needs_background": "light"
     },
     "output_type": "display_data"
    }
   ],
   "source": [
    "plt.figure(figsize=(15,5))\n",
    "plt.subplot(1,2,1)\n",
    "sns.distplot(df_train.Age)\n",
    "plt.subplot(1,2,2)\n",
    "sns.boxplot(df_train.Age)"
   ]
  },
  {
   "cell_type": "markdown",
   "id": "ececd72e",
   "metadata": {
    "papermill": {
     "duration": 0.013716,
     "end_time": "2023-02-22T17:35:43.444523",
     "exception": false,
     "start_time": "2023-02-22T17:35:43.430807",
     "status": "completed"
    },
    "tags": []
   },
   "source": [
    "**4. Drive License**"
   ]
  },
  {
   "cell_type": "code",
   "execution_count": 9,
   "id": "06f62504",
   "metadata": {
    "execution": {
     "iopub.execute_input": "2023-02-22T17:35:43.474039Z",
     "iopub.status.busy": "2023-02-22T17:35:43.472442Z",
     "iopub.status.idle": "2023-02-22T17:35:43.784535Z",
     "shell.execute_reply": "2023-02-22T17:35:43.782905Z"
    },
    "papermill": {
     "duration": 0.329631,
     "end_time": "2023-02-22T17:35:43.787787",
     "exception": false,
     "start_time": "2023-02-22T17:35:43.458156",
     "status": "completed"
    },
    "tags": []
   },
   "outputs": [
    {
     "data": {
      "text/plain": [
       "<AxesSubplot:xlabel='Response', ylabel='count'>"
      ]
     },
     "execution_count": 9,
     "metadata": {},
     "output_type": "execute_result"
    },
    {
     "data": {
      "image/png": "[encoded data removed]",
      "text/plain": [
       "<Figure size 432x288 with 1 Axes>"
      ]
     },
     "metadata": {
      "needs_background": "light"
     },
     "output_type": "display_data"
    }
   ],
   "source": [
    "df_res_lic = df_train.groupby(['Response','Driving_License']).size().reset_index(name='count')\n",
    "sns.barplot(data=df_res_lic,x='Response',y='count',hue='Driving_License')"
   ]
  },
  {
   "cell_type": "markdown",
   "id": "ffb49b31",
   "metadata": {
    "papermill": {
     "duration": 0.014679,
     "end_time": "2023-02-22T17:35:43.816187",
     "exception": false,
     "start_time": "2023-02-22T17:35:43.801508",
     "status": "completed"
    },
    "tags": []
   },
   "source": [
    "**5. Previously_Insured**"
   ]
  },
  {
   "cell_type": "code",
   "execution_count": 10,
   "id": "54a69fcb",
   "metadata": {
    "execution": {
     "iopub.execute_input": "2023-02-22T17:35:43.847213Z",
     "iopub.status.busy": "2023-02-22T17:35:43.846748Z",
     "iopub.status.idle": "2023-02-22T17:35:44.132493Z",
     "shell.execute_reply": "2023-02-22T17:35:44.130719Z"
    },
    "papermill": {
     "duration": 0.304443,
     "end_time": "2023-02-22T17:35:44.135820",
     "exception": false,
     "start_time": "2023-02-22T17:35:43.831377",
     "status": "completed"
    },
    "tags": []
   },
   "outputs": [
    {
     "data": {
      "text/plain": [
       "<AxesSubplot:xlabel='Response', ylabel='count'>"
      ]
     },
     "execution_count": 10,
     "metadata": {},
     "output_type": "execute_result"
    },
    {
     "data": {
      "image/png": "[encoded data removed]",
      "text/plain": [
       "<Figure size 432x288 with 1 Axes>"
      ]
     },
     "metadata": {
      "needs_background": "light"
     },
     "output_type": "display_data"
    }
   ],
   "source": [
    "df_res_lic = df_train.groupby(['Response','Previously_Insured']).size().reset_index(name='count')\n",
    "sns.barplot(data=df_res_lic,x='Response',y='count',hue='Previously_Insured')"
   ]
  },
  {
   "cell_type": "markdown",
   "id": "0a46e632",
   "metadata": {
    "papermill": {
     "duration": 0.01288,
     "end_time": "2023-02-22T17:35:44.161892",
     "exception": false,
     "start_time": "2023-02-22T17:35:44.149012",
     "status": "completed"
    },
    "tags": []
   },
   "source": [
    "**6. Vehicle_Age**"
   ]
  },
  {
   "cell_type": "code",
   "execution_count": 11,
   "id": "b3046856",
   "metadata": {
    "execution": {
     "iopub.execute_input": "2023-02-22T17:35:44.190544Z",
     "iopub.status.busy": "2023-02-22T17:35:44.189898Z",
     "iopub.status.idle": "2023-02-22T17:35:44.690503Z",
     "shell.execute_reply": "2023-02-22T17:35:44.688973Z"
    },
    "papermill": {
     "duration": 0.518585,
     "end_time": "2023-02-22T17:35:44.693316",
     "exception": false,
     "start_time": "2023-02-22T17:35:44.174731",
     "status": "completed"
    },
    "tags": []
   },
   "outputs": [
    {
     "data": {
      "text/plain": [
       "<AxesSubplot:xlabel='Vehicle_Age', ylabel='count'>"
      ]
     },
     "execution_count": 11,
     "metadata": {},
     "output_type": "execute_result"
    },
    {
     "data": {
      "image/png": "[encoded data removed]",
      "text/plain": [
       "<Figure size 432x288 with 1 Axes>"
      ]
     },
     "metadata": {
      "needs_background": "light"
     },
     "output_type": "display_data"
    }
   ],
   "source": [
    "sns.countplot(data=df_train,x='Vehicle_Age')"
   ]
  },
  {
   "cell_type": "code",
   "execution_count": 12,
   "id": "d064e5ed",
   "metadata": {
    "execution": {
     "iopub.execute_input": "2023-02-22T17:35:44.722665Z",
     "iopub.status.busy": "2023-02-22T17:35:44.722150Z",
     "iopub.status.idle": "2023-02-22T17:35:45.101788Z",
     "shell.execute_reply": "2023-02-22T17:35:45.100142Z"
    },
    "papermill": {
     "duration": 0.398056,
     "end_time": "2023-02-22T17:35:45.105055",
     "exception": false,
     "start_time": "2023-02-22T17:35:44.706999",
     "status": "completed"
    },
    "tags": []
   },
   "outputs": [
    {
     "data": {
      "text/plain": [
       "<AxesSubplot:xlabel='Response', ylabel='count'>"
      ]
     },
     "execution_count": 12,
     "metadata": {},
     "output_type": "execute_result"
    },
    {
     "data": {
      "image/png": "[encoded data removed]",
      "text/plain": [
       "<Figure size 432x288 with 1 Axes>"
      ]
     },
     "metadata": {
      "needs_background": "light"
     },
     "output_type": "display_data"
    }
   ],
   "source": [
    "df_res_lic = df_train.groupby(['Response','Vehicle_Age']).size().reset_index(name='count')\n",
    "sns.barplot(data=df_res_lic,x='Response',y='count',hue='Vehicle_Age')"
   ]
  },
  {
   "cell_type": "markdown",
   "id": "5cdf8740",
   "metadata": {
    "papermill": {
     "duration": 0.014839,
     "end_time": "2023-02-22T17:35:45.134015",
     "exception": false,
     "start_time": "2023-02-22T17:35:45.119176",
     "status": "completed"
    },
    "tags": []
   },
   "source": [
    "**7. Vehicle_Damage**"
   ]
  },
  {
   "cell_type": "code",
   "execution_count": 13,
   "id": "7e04a482",
   "metadata": {
    "execution": {
     "iopub.execute_input": "2023-02-22T17:35:45.166610Z",
     "iopub.status.busy": "2023-02-22T17:35:45.164888Z",
     "iopub.status.idle": "2023-02-22T17:35:45.649996Z",
     "shell.execute_reply": "2023-02-22T17:35:45.648676Z"
    },
    "papermill": {
     "duration": 0.504358,
     "end_time": "2023-02-22T17:35:45.652636",
     "exception": false,
     "start_time": "2023-02-22T17:35:45.148278",
     "status": "completed"
    },
    "tags": []
   },
   "outputs": [
    {
     "data": {
      "text/plain": [
       "<AxesSubplot:xlabel='Vehicle_Damage', ylabel='count'>"
      ]
     },
     "execution_count": 13,
     "metadata": {},
     "output_type": "execute_result"
    },
    {
     "data": {
      "image/png": "[encoded data removed]",
      "text/plain": [
       "<Figure size 432x288 with 1 Axes>"
      ]
     },
     "metadata": {
      "needs_background": "light"
     },
     "output_type": "display_data"
    }
   ],
   "source": [
    "sns.countplot(data=df_train,x='Vehicle_Damage')"
   ]
  },
  {
   "cell_type": "code",
   "execution_count": 14,
   "id": "cc6a7f2e",
   "metadata": {
    "execution": {
     "iopub.execute_input": "2023-02-22T17:35:45.686552Z",
     "iopub.status.busy": "2023-02-22T17:35:45.685970Z",
     "iopub.status.idle": "2023-02-22T17:35:46.053941Z",
     "shell.execute_reply": "2023-02-22T17:35:46.052610Z"
    },
    "papermill": {
     "duration": 0.388879,
     "end_time": "2023-02-22T17:35:46.056481",
     "exception": false,
     "start_time": "2023-02-22T17:35:45.667602",
     "status": "completed"
    },
    "tags": []
   },
   "outputs": [
    {
     "data": {
      "text/plain": [
       "<AxesSubplot:xlabel='Response', ylabel='count'>"
      ]
     },
     "execution_count": 14,
     "metadata": {},
     "output_type": "execute_result"
    },
    {
     "data": {
      "image/png": "[encoded data removed]",
      "text/plain": [
       "<Figure size 432x288 with 1 Axes>"
      ]
     },
     "metadata": {
      "needs_background": "light"
     },
     "output_type": "display_data"
    }
   ],
   "source": [
    "df_res_lic = df_train.groupby(['Response','Vehicle_Damage']).size().reset_index(name='count')\n",
    "sns.barplot(data=df_res_lic,x='Response',y='count',hue='Vehicle_Damage')"
   ]
  },
  {
   "cell_type": "markdown",
   "id": "e1b9bf14",
   "metadata": {
    "papermill": {
     "duration": 0.014774,
     "end_time": "2023-02-22T17:35:46.086524",
     "exception": false,
     "start_time": "2023-02-22T17:35:46.071750",
     "status": "completed"
    },
    "tags": []
   },
   "source": [
    "**8. Annual_Premium**"
   ]
  },
  {
   "cell_type": "code",
   "execution_count": 15,
   "id": "3b13ef04",
   "metadata": {
    "execution": {
     "iopub.execute_input": "2023-02-22T17:35:46.120853Z",
     "iopub.status.busy": "2023-02-22T17:35:46.120391Z",
     "iopub.status.idle": "2023-02-22T17:35:48.091192Z",
     "shell.execute_reply": "2023-02-22T17:35:48.089379Z"
    },
    "papermill": {
     "duration": 1.991798,
     "end_time": "2023-02-22T17:35:48.094521",
     "exception": false,
     "start_time": "2023-02-22T17:35:46.102723",
     "status": "completed"
    },
    "tags": []
   },
   "outputs": [
    {
     "data": {
      "text/plain": [
       "<AxesSubplot:xlabel='Annual_Premium', ylabel='Density'>"
      ]
     },
     "execution_count": 15,
     "metadata": {},
     "output_type": "execute_result"
    },
    {
     "data": {
      "image/png": "[encoded data removed]",
      "text/plain": [
       "<Figure size 432x288 with 1 Axes>"
      ]
     },
     "metadata": {
      "needs_background": "light"
     },
     "output_type": "display_data"
    }
   ],
   "source": [
    "sns.distplot(df_train['Annual_Premium'])"
   ]
  },
  {
   "cell_type": "markdown",
   "id": "288982ca",
   "metadata": {
    "papermill": {
     "duration": 0.019716,
     "end_time": "2023-02-22T17:35:48.132771",
     "exception": false,
     "start_time": "2023-02-22T17:35:48.113055",
     "status": "completed"
    },
    "tags": []
   },
   "source": [
    "**9. Vintage**"
   ]
  },
  {
   "cell_type": "code",
   "execution_count": 16,
   "id": "dc4dcd32",
   "metadata": {
    "execution": {
     "iopub.execute_input": "2023-02-22T17:35:48.171133Z",
     "iopub.status.busy": "2023-02-22T17:35:48.170113Z",
     "iopub.status.idle": "2023-02-22T17:35:50.026425Z",
     "shell.execute_reply": "2023-02-22T17:35:50.024763Z"
    },
    "papermill": {
     "duration": 1.877837,
     "end_time": "2023-02-22T17:35:50.029408",
     "exception": false,
     "start_time": "2023-02-22T17:35:48.151571",
     "status": "completed"
    },
    "tags": []
   },
   "outputs": [
    {
     "data": {
      "text/plain": [
       "<AxesSubplot:xlabel='Vintage', ylabel='Density'>"
      ]
     },
     "execution_count": 16,
     "metadata": {},
     "output_type": "execute_result"
    },
    {
     "data": {
      "image/png": "[encoded data removed]",
      "text/plain": [
       "<Figure size 432x288 with 1 Axes>"
      ]
     },
     "metadata": {
      "needs_background": "light"
     },
     "output_type": "display_data"
    }
   ],
   "source": [
    "sns.distplot(df_train['Vintage'])"
   ]
  },
  {
   "cell_type": "markdown",
   "id": "ff884f8e",
   "metadata": {
    "papermill": {
     "duration": 0.016003,
     "end_time": "2023-02-22T17:35:50.062233",
     "exception": false,
     "start_time": "2023-02-22T17:35:50.046230",
     "status": "completed"
    },
    "tags": []
   },
   "source": [
    "# Data Preprocessing"
   ]
  },
  {
   "cell_type": "code",
   "execution_count": 17,
   "id": "8a7a8b4f",
   "metadata": {
    "execution": {
     "iopub.execute_input": "2023-02-22T17:35:50.098528Z",
     "iopub.status.busy": "2023-02-22T17:35:50.097547Z",
     "iopub.status.idle": "2023-02-22T17:35:50.169611Z",
     "shell.execute_reply": "2023-02-22T17:35:50.168175Z"
    },
    "papermill": {
     "duration": 0.094553,
     "end_time": "2023-02-22T17:35:50.173135",
     "exception": false,
     "start_time": "2023-02-22T17:35:50.078582",
     "status": "completed"
    },
    "tags": []
   },
   "outputs": [],
   "source": [
    "df_train['Gender'] = df_train['Gender'].map({'Male':1,'Female':0})\n",
    "df_train['Vehicle_Damage'] = df_train['Vehicle_Damage'].map({'Yes':1,'No':0})"
   ]
  },
  {
   "cell_type": "code",
   "execution_count": 18,
   "id": "16101619",
   "metadata": {
    "execution": {
     "iopub.execute_input": "2023-02-22T17:35:50.209332Z",
     "iopub.status.busy": "2023-02-22T17:35:50.208791Z",
     "iopub.status.idle": "2023-02-22T17:35:50.445819Z",
     "shell.execute_reply": "2023-02-22T17:35:50.443873Z"
    },
    "papermill": {
     "duration": 0.258612,
     "end_time": "2023-02-22T17:35:50.449231",
     "exception": false,
     "start_time": "2023-02-22T17:35:50.190619",
     "status": "completed"
    },
    "tags": []
   },
   "outputs": [
    {
     "data": {
      "text/html": [
       "<div>\n",
       "<style scoped>\n",
       "    .dataframe tbody tr th:only-of-type {\n",
       "        vertical-align: middle;\n",
       "    }\n",
       "\n",
       "    .dataframe tbody tr th {\n",
       "        vertical-align: top;\n",
       "    }\n",
       "\n",
       "    .dataframe thead th {\n",
       "        text-align: right;\n",
       "    }\n",
       "</style>\n",
       "<table border=\"1\" class=\"dataframe\">\n",
       "  <thead>\n",
       "    <tr style=\"text-align: right;\">\n",
       "      <th></th>\n",
       "      <th>Gender</th>\n",
       "      <th>Age</th>\n",
       "      <th>Driving_License</th>\n",
       "      <th>Region_Code</th>\n",
       "      <th>Previously_Insured</th>\n",
       "      <th>Vehicle_Damage</th>\n",
       "      <th>Annual_Premium</th>\n",
       "      <th>Policy_Sales_Channel</th>\n",
       "      <th>Vintage</th>\n",
       "      <th>Response</th>\n",
       "      <th>Vehicle_Age_&lt; 1 Year</th>\n",
       "      <th>Vehicle_Age_&gt; 2 Years</th>\n",
       "    </tr>\n",
       "  </thead>\n",
       "  <tbody>\n",
       "    <tr>\n",
       "      <th>0</th>\n",
       "      <td>1</td>\n",
       "      <td>44</td>\n",
       "      <td>1</td>\n",
       "      <td>28.0</td>\n",
       "      <td>0</td>\n",
       "      <td>1</td>\n",
       "      <td>40454.0</td>\n",
       "      <td>26.0</td>\n",
       "      <td>217</td>\n",
       "      <td>1</td>\n",
       "      <td>0</td>\n",
       "      <td>1</td>\n",
       "    </tr>\n",
       "    <tr>\n",
       "      <th>1</th>\n",
       "      <td>1</td>\n",
       "      <td>76</td>\n",
       "      <td>1</td>\n",
       "      <td>3.0</td>\n",
       "      <td>0</td>\n",
       "      <td>0</td>\n",
       "      <td>33536.0</td>\n",
       "      <td>26.0</td>\n",
       "      <td>183</td>\n",
       "      <td>0</td>\n",
       "      <td>0</td>\n",
       "      <td>0</td>\n",
       "    </tr>\n",
       "    <tr>\n",
       "      <th>2</th>\n",
       "      <td>1</td>\n",
       "      <td>47</td>\n",
       "      <td>1</td>\n",
       "      <td>28.0</td>\n",
       "      <td>0</td>\n",
       "      <td>1</td>\n",
       "      <td>38294.0</td>\n",
       "      <td>26.0</td>\n",
       "      <td>27</td>\n",
       "      <td>1</td>\n",
       "      <td>0</td>\n",
       "      <td>1</td>\n",
       "    </tr>\n",
       "    <tr>\n",
       "      <th>3</th>\n",
       "      <td>1</td>\n",
       "      <td>21</td>\n",
       "      <td>1</td>\n",
       "      <td>11.0</td>\n",
       "      <td>1</td>\n",
       "      <td>0</td>\n",
       "      <td>28619.0</td>\n",
       "      <td>152.0</td>\n",
       "      <td>203</td>\n",
       "      <td>0</td>\n",
       "      <td>1</td>\n",
       "      <td>0</td>\n",
       "    </tr>\n",
       "    <tr>\n",
       "      <th>4</th>\n",
       "      <td>0</td>\n",
       "      <td>29</td>\n",
       "      <td>1</td>\n",
       "      <td>41.0</td>\n",
       "      <td>1</td>\n",
       "      <td>0</td>\n",
       "      <td>27496.0</td>\n",
       "      <td>152.0</td>\n",
       "      <td>39</td>\n",
       "      <td>0</td>\n",
       "      <td>1</td>\n",
       "      <td>0</td>\n",
       "    </tr>\n",
       "  </tbody>\n",
       "</table>\n",
       "</div>"
      ],
      "text/plain": [
       "   Gender  Age  Driving_License  Region_Code  Previously_Insured  \\\n",
       "0       1   44                1         28.0                   0   \n",
       "1       1   76                1          3.0                   0   \n",
       "2       1   47                1         28.0                   0   \n",
       "3       1   21                1         11.0                   1   \n",
       "4       0   29                1         41.0                   1   \n",
       "\n",
       "   Vehicle_Damage  Annual_Premium  Policy_Sales_Channel  Vintage  Response  \\\n",
       "0               1         40454.0                  26.0      217         1   \n",
       "1               0         33536.0                  26.0      183         0   \n",
       "2               1         38294.0                  26.0       27         1   \n",
       "3               0         28619.0                 152.0      203         0   \n",
       "4               0         27496.0                 152.0       39         0   \n",
       "\n",
       "   Vehicle_Age_< 1 Year  Vehicle_Age_> 2 Years  \n",
       "0                     0                      1  \n",
       "1                     0                      0  \n",
       "2                     0                      1  \n",
       "3                     1                      0  \n",
       "4                     1                      0  "
      ]
     },
     "execution_count": 18,
     "metadata": {},
     "output_type": "execute_result"
    }
   ],
   "source": [
    "df_train1 = pd.get_dummies(df_train,columns=['Vehicle_Age'],drop_first=True)\n",
    "df_train1['Vehicle_Age_< 1 Year'] = df_train1['Vehicle_Age_< 1 Year'].astype(int)\n",
    "df_train1['Vehicle_Age_> 2 Years'] = df_train1['Vehicle_Age_> 2 Years'].astype(int)\n",
    "df_train1.drop('id',axis=1,inplace=True)\n",
    "df_train1.head()"
   ]
  },
  {
   "cell_type": "markdown",
   "id": "5286c90f",
   "metadata": {
    "papermill": {
     "duration": 0.016213,
     "end_time": "2023-02-22T17:35:50.482301",
     "exception": false,
     "start_time": "2023-02-22T17:35:50.466088",
     "status": "completed"
    },
    "tags": []
   },
   "source": [
    "# Seperate Data"
   ]
  },
  {
   "cell_type": "code",
   "execution_count": 19,
   "id": "50dae89c",
   "metadata": {
    "execution": {
     "iopub.execute_input": "2023-02-22T17:35:50.519578Z",
     "iopub.status.busy": "2023-02-22T17:35:50.518543Z",
     "iopub.status.idle": "2023-02-22T17:35:50.549961Z",
     "shell.execute_reply": "2023-02-22T17:35:50.548740Z"
    },
    "papermill": {
     "duration": 0.053902,
     "end_time": "2023-02-22T17:35:50.552678",
     "exception": false,
     "start_time": "2023-02-22T17:35:50.498776",
     "status": "completed"
    },
    "tags": []
   },
   "outputs": [],
   "source": [
    "X = df_train1.drop('Response',axis=1)\n",
    "y = df_train1['Response']"
   ]
  },
  {
   "cell_type": "code",
   "execution_count": 20,
   "id": "eed921e4",
   "metadata": {
    "execution": {
     "iopub.execute_input": "2023-02-22T17:35:50.589721Z",
     "iopub.status.busy": "2023-02-22T17:35:50.588083Z",
     "iopub.status.idle": "2023-02-22T17:35:52.447143Z",
     "shell.execute_reply": "2023-02-22T17:35:52.445255Z"
    },
    "papermill": {
     "duration": 1.881335,
     "end_time": "2023-02-22T17:35:52.450558",
     "exception": false,
     "start_time": "2023-02-22T17:35:50.569223",
     "status": "completed"
    },
    "tags": []
   },
   "outputs": [],
   "source": [
    "from imblearn.over_sampling import SMOTE\n",
    "X_res, y_res = SMOTE().fit_resample(X,y)"
   ]
  },
  {
   "cell_type": "code",
   "execution_count": 21,
   "id": "48036ede",
   "metadata": {
    "execution": {
     "iopub.execute_input": "2023-02-22T17:35:52.493671Z",
     "iopub.status.busy": "2023-02-22T17:35:52.493183Z",
     "iopub.status.idle": "2023-02-22T17:35:52.666576Z",
     "shell.execute_reply": "2023-02-22T17:35:52.664934Z"
    },
    "papermill": {
     "duration": 0.199015,
     "end_time": "2023-02-22T17:35:52.669787",
     "exception": false,
     "start_time": "2023-02-22T17:35:52.470772",
     "status": "completed"
    },
    "tags": []
   },
   "outputs": [],
   "source": [
    "from sklearn.model_selection import train_test_split\n",
    "X_train,X_test,y_train,y_test = train_test_split(X_res,y_res,test_size=0.2,random_state=42)"
   ]
  },
  {
   "cell_type": "code",
   "execution_count": 22,
   "id": "07a36e6c",
   "metadata": {
    "execution": {
     "iopub.execute_input": "2023-02-22T17:35:52.706132Z",
     "iopub.status.busy": "2023-02-22T17:35:52.705094Z",
     "iopub.status.idle": "2023-02-22T17:35:52.897258Z",
     "shell.execute_reply": "2023-02-22T17:35:52.895361Z"
    },
    "papermill": {
     "duration": 0.214098,
     "end_time": "2023-02-22T17:35:52.900948",
     "exception": false,
     "start_time": "2023-02-22T17:35:52.686850",
     "status": "completed"
    },
    "tags": []
   },
   "outputs": [
    {
     "data": {
      "text/html": [
       "<div>\n",
       "<style scoped>\n",
       "    .dataframe tbody tr th:only-of-type {\n",
       "        vertical-align: middle;\n",
       "    }\n",
       "\n",
       "    .dataframe tbody tr th {\n",
       "        vertical-align: top;\n",
       "    }\n",
       "\n",
       "    .dataframe thead th {\n",
       "        text-align: right;\n",
       "    }\n",
       "</style>\n",
       "<table border=\"1\" class=\"dataframe\">\n",
       "  <thead>\n",
       "    <tr style=\"text-align: right;\">\n",
       "      <th></th>\n",
       "      <th>0</th>\n",
       "      <th>1</th>\n",
       "      <th>2</th>\n",
       "      <th>3</th>\n",
       "      <th>4</th>\n",
       "      <th>5</th>\n",
       "      <th>6</th>\n",
       "      <th>7</th>\n",
       "      <th>8</th>\n",
       "      <th>9</th>\n",
       "      <th>10</th>\n",
       "    </tr>\n",
       "  </thead>\n",
       "  <tbody>\n",
       "    <tr>\n",
       "      <th>0</th>\n",
       "      <td>1.0</td>\n",
       "      <td>0.338462</td>\n",
       "      <td>1.0</td>\n",
       "      <td>0.349020</td>\n",
       "      <td>0.0</td>\n",
       "      <td>1.0</td>\n",
       "      <td>0.000000</td>\n",
       "      <td>0.759259</td>\n",
       "      <td>0.297578</td>\n",
       "      <td>0.0</td>\n",
       "      <td>0.0</td>\n",
       "    </tr>\n",
       "    <tr>\n",
       "      <th>1</th>\n",
       "      <td>0.0</td>\n",
       "      <td>0.384615</td>\n",
       "      <td>1.0</td>\n",
       "      <td>0.884615</td>\n",
       "      <td>1.0</td>\n",
       "      <td>1.0</td>\n",
       "      <td>0.053418</td>\n",
       "      <td>0.179012</td>\n",
       "      <td>0.159170</td>\n",
       "      <td>0.0</td>\n",
       "      <td>0.0</td>\n",
       "    </tr>\n",
       "    <tr>\n",
       "      <th>2</th>\n",
       "      <td>0.0</td>\n",
       "      <td>0.338462</td>\n",
       "      <td>1.0</td>\n",
       "      <td>0.538462</td>\n",
       "      <td>0.0</td>\n",
       "      <td>1.0</td>\n",
       "      <td>0.098457</td>\n",
       "      <td>0.154321</td>\n",
       "      <td>0.401384</td>\n",
       "      <td>0.0</td>\n",
       "      <td>0.0</td>\n",
       "    </tr>\n",
       "    <tr>\n",
       "      <th>3</th>\n",
       "      <td>0.0</td>\n",
       "      <td>0.338462</td>\n",
       "      <td>1.0</td>\n",
       "      <td>0.236727</td>\n",
       "      <td>0.0</td>\n",
       "      <td>1.0</td>\n",
       "      <td>0.065187</td>\n",
       "      <td>0.842806</td>\n",
       "      <td>0.927336</td>\n",
       "      <td>0.0</td>\n",
       "      <td>0.0</td>\n",
       "    </tr>\n",
       "    <tr>\n",
       "      <th>4</th>\n",
       "      <td>1.0</td>\n",
       "      <td>0.461538</td>\n",
       "      <td>1.0</td>\n",
       "      <td>0.653846</td>\n",
       "      <td>1.0</td>\n",
       "      <td>0.0</td>\n",
       "      <td>0.050759</td>\n",
       "      <td>0.759259</td>\n",
       "      <td>0.633218</td>\n",
       "      <td>0.0</td>\n",
       "      <td>0.0</td>\n",
       "    </tr>\n",
       "  </tbody>\n",
       "</table>\n",
       "</div>"
      ],
      "text/plain": [
       "    0         1    2         3    4    5         6         7         8    9   \\\n",
       "0  1.0  0.338462  1.0  0.349020  0.0  1.0  0.000000  0.759259  0.297578  0.0   \n",
       "1  0.0  0.384615  1.0  0.884615  1.0  1.0  0.053418  0.179012  0.159170  0.0   \n",
       "2  0.0  0.338462  1.0  0.538462  0.0  1.0  0.098457  0.154321  0.401384  0.0   \n",
       "3  0.0  0.338462  1.0  0.236727  0.0  1.0  0.065187  0.842806  0.927336  0.0   \n",
       "4  1.0  0.461538  1.0  0.653846  1.0  0.0  0.050759  0.759259  0.633218  0.0   \n",
       "\n",
       "    10  \n",
       "0  0.0  \n",
       "1  0.0  \n",
       "2  0.0  \n",
       "3  0.0  \n",
       "4  0.0  "
      ]
     },
     "execution_count": 22,
     "metadata": {},
     "output_type": "execute_result"
    }
   ],
   "source": [
    "from sklearn.preprocessing import MinMaxScaler\n",
    "scaler = MinMaxScaler()\n",
    "X_train = scaler.fit_transform(X_train)\n",
    "X_test = scaler.fit_transform(X_test)\n",
    "X_train = pd.DataFrame(X_train)\n",
    "X_test = pd.DataFrame(X_test)\n",
    "X_train.head()"
   ]
  },
  {
   "cell_type": "markdown",
   "id": "5a17afa2",
   "metadata": {
    "papermill": {
     "duration": 0.020589,
     "end_time": "2023-02-22T17:35:52.941857",
     "exception": false,
     "start_time": "2023-02-22T17:35:52.921268",
     "status": "completed"
    },
    "tags": []
   },
   "source": [
    "# Model"
   ]
  },
  {
   "cell_type": "code",
   "execution_count": 23,
   "id": "d0b4e953",
   "metadata": {
    "execution": {
     "iopub.execute_input": "2023-02-22T17:35:52.985764Z",
     "iopub.status.busy": "2023-02-22T17:35:52.985222Z",
     "iopub.status.idle": "2023-02-22T17:35:54.050220Z",
     "shell.execute_reply": "2023-02-22T17:35:54.048803Z"
    },
    "papermill": {
     "duration": 1.089678,
     "end_time": "2023-02-22T17:35:54.053726",
     "exception": false,
     "start_time": "2023-02-22T17:35:52.964048",
     "status": "completed"
    },
    "tags": []
   },
   "outputs": [],
   "source": [
    "from sklearn.linear_model import LogisticRegression\n",
    "from sklearn.tree import DecisionTreeClassifier\n",
    "from sklearn.ensemble import RandomForestClassifier,ExtraTreesClassifier\n",
    "from sklearn.neighbors import KNeighborsClassifier\n",
    "from sklearn.svm import SVC\n",
    "from sklearn.naive_bayes import GaussianNB\n",
    "from sklearn.metrics import accuracy_score,f1_score,precision_score,recall_score,roc_curve,roc_auc_score,confusion_matrix,classification_report"
   ]
  },
  {
   "cell_type": "code",
   "execution_count": 24,
   "id": "67873588",
   "metadata": {
    "execution": {
     "iopub.execute_input": "2023-02-22T17:35:54.091078Z",
     "iopub.status.busy": "2023-02-22T17:35:54.089977Z",
     "iopub.status.idle": "2023-02-22T17:42:40.788910Z",
     "shell.execute_reply": "2023-02-22T17:42:40.786837Z"
    },
    "papermill": {
     "duration": 406.721239,
     "end_time": "2023-02-22T17:42:40.792597",
     "exception": false,
     "start_time": "2023-02-22T17:35:54.071358",
     "status": "completed"
    },
    "tags": []
   },
   "outputs": [
    {
     "name": "stdout",
     "output_type": "stream",
     "text": [
      "Model is: LogisticRegression()\n",
      "Predictions are : [1 1 0 ... 0 1 0]\n",
      "Confusion matrix : \n",
      " [[48929 17846]\n",
      " [ 7070 59915]]\n",
      "Outcome values : \n",
      " 48929 17846 7070 59915\n",
      "Classification report : \n",
      "               precision    recall  f1-score   support\n",
      "\n",
      "           1       0.77      0.89      0.83     66985\n",
      "           0       0.87      0.73      0.80     66775\n",
      "\n",
      "    accuracy                           0.81    133760\n",
      "   macro avg       0.82      0.81      0.81    133760\n",
      "weighted avg       0.82      0.81      0.81    133760\n",
      "\n",
      "Accuracy : 81.4 %\n",
      "Precision : 87.4 %\n",
      "Recall : 73.3 %\n",
      "F1 Score : 0.797\n",
      "Specificity or True Negative Rate : 89.4 %\n",
      "Balanced Accuracy : 81.4 %\n",
      "roc_auc_score: 0.814\n"
     ]
    },
    {
     "data": {
      "image/png": "[encoded data removed]",
      "text/plain": [
       "<Figure size 432x288 with 1 Axes>"
      ]
     },
     "metadata": {
      "needs_background": "light"
     },
     "output_type": "display_data"
    },
    {
     "name": "stdout",
     "output_type": "stream",
     "text": [
      "================================================================================\n",
      "Model is: DecisionTreeClassifier()\n",
      "Predictions are : [1 1 0 ... 0 0 0]\n",
      "Confusion matrix : \n",
      " [[58080  8695]\n",
      " [ 7528 59457]]\n",
      "Outcome values : \n",
      " 58080 8695 7528 59457\n",
      "Classification report : \n",
      "               precision    recall  f1-score   support\n",
      "\n",
      "           1       0.87      0.89      0.88     66985\n",
      "           0       0.89      0.87      0.88     66775\n",
      "\n",
      "    accuracy                           0.88    133760\n",
      "   macro avg       0.88      0.88      0.88    133760\n",
      "weighted avg       0.88      0.88      0.88    133760\n",
      "\n",
      "Accuracy : 87.9 %\n",
      "Precision : 88.5 %\n",
      "Recall : 87.0 %\n",
      "F1 Score : 0.877\n",
      "Specificity or True Negative Rate : 88.8 %\n",
      "Balanced Accuracy : 87.9 %\n",
      "roc_auc_score: 0.879\n"
     ]
    },
    {
     "data": {
      "image/png": "[encoded data removed]",
      "text/plain": [
       "<Figure size 432x288 with 1 Axes>"
      ]
     },
     "metadata": {
      "needs_background": "light"
     },
     "output_type": "display_data"
    },
    {
     "name": "stdout",
     "output_type": "stream",
     "text": [
      "================================================================================\n",
      "Model is: RandomForestClassifier()\n",
      "Predictions are : [1 1 0 ... 0 1 0]\n",
      "Confusion matrix : \n",
      " [[57547  9228]\n",
      " [ 6113 60872]]\n",
      "Outcome values : \n",
      " 57547 9228 6113 60872\n",
      "Classification report : \n",
      "               precision    recall  f1-score   support\n",
      "\n",
      "           1       0.87      0.91      0.89     66985\n",
      "           0       0.90      0.86      0.88     66775\n",
      "\n",
      "    accuracy                           0.89    133760\n",
      "   macro avg       0.89      0.89      0.89    133760\n",
      "weighted avg       0.89      0.89      0.89    133760\n",
      "\n",
      "Accuracy : 88.5 %\n",
      "Precision : 90.4 %\n",
      "Recall : 86.2 %\n",
      "F1 Score : 0.882\n",
      "Specificity or True Negative Rate : 90.9 %\n",
      "Balanced Accuracy : 88.6 %\n",
      "roc_auc_score: 0.885\n"
     ]
    },
    {
     "data": {
      "image/png": "[encoded data removed]",
      "text/plain": [
       "<Figure size 432x288 with 1 Axes>"
      ]
     },
     "metadata": {
      "needs_background": "light"
     },
     "output_type": "display_data"
    },
    {
     "name": "stdout",
     "output_type": "stream",
     "text": [
      "================================================================================\n"
     ]
    }
   ],
   "source": [
    "res = pd.DataFrame()\n",
    "\n",
    "lr = LogisticRegression()\n",
    "tree = DecisionTreeClassifier()\n",
    "rf = RandomForestClassifier()\n",
    "\n",
    "Models = [lr,tree,rf]\n",
    "\n",
    "for model in Models:\n",
    "    print('Model is: {}'.format(model))\n",
    "    m = model.fit(X_train,y_train)\n",
    "    prediction = m.predict(X_test)\n",
    "    print('Predictions are : {}'.format(prediction))\n",
    "    \n",
    "\n",
    "    matrix = confusion_matrix(y_test,prediction)\n",
    "    print('Confusion matrix : \\n', matrix)\n",
    "    \n",
    " \n",
    "    tp, fn, fp, tn = confusion_matrix(y_test,prediction).reshape(-1)\n",
    "    print('Outcome values : \\n', tp, fn, fp, tn)\n",
    "\n",
    "    \n",
    "    C_Report = classification_report(y_test,prediction,labels=[1,0])\n",
    "    print('Classification report : \\n', C_Report)\n",
    "\n",
    "   \n",
    "    sensitivity = round(tp/(tp+fn), 3)\n",
    "    specificity = round(tn/(tn+fp), 3)\n",
    "    accuracy = round((tp+tn)/(tp+fp+tn+fn), 3)\n",
    "    balanced_accuracy = round((sensitivity+specificity)/2, 3)\n",
    "    \n",
    "    precision = round(tp/(tp+fp), 3)\n",
    "    f1Score = round((2*tp/(2*tp + fp + fn)), 3)\n",
    "    print('Accuracy :', round(accuracy*100, 2),'%')\n",
    "    print('Precision :', round(precision*100, 2),'%')\n",
    "    print('Recall :', round(sensitivity*100,2), '%')\n",
    "    print('F1 Score :', f1Score)\n",
    "    print('Specificity or True Negative Rate :', round(specificity*100,2), '%'  )\n",
    "    print('Balanced Accuracy :', round(balanced_accuracy*100, 2),'%')\n",
    "    \n",
    "    # ROC Curve\n",
    "    print('roc_auc_score:', round(roc_auc_score(y_test,prediction), 3))\n",
    "    \n",
    "    logit_roc_auc = roc_auc_score(y_test, prediction)\n",
    "    fpr, tpr, thresholds = roc_curve(y_test, model.predict_proba(X_test)[:,1])\n",
    "    plt.figure()\n",
    "    plt.plot(fpr, tpr, label= 'Classification Model' % logit_roc_auc)\n",
    "    plt.plot([0, 1], [0, 1],'r--')\n",
    "    plt.xlim([0.0, 1.0])\n",
    "    plt.ylim([0.0, 1.05])\n",
    "    plt.xlabel('False Positive Rate')\n",
    "    plt.ylabel('True Positive Rate')\n",
    "    plt.title('Receiver operating characteristic')\n",
    "    plt.legend(loc=\"lower right\")\n",
    "    plt.savefig('Log_ROC')\n",
    "    plt.show()\n",
    "    print('='*80)\n",
    "    \n",
    "    model_dict = {'Model Name' : model, \n",
    "                  'True Positive' : tp, \n",
    "                  'False Negative' : fn, \n",
    "                  'False Positive' : fp,\n",
    "                  'True Negative' : tn,\n",
    "                  'Accuracy' : accuracy,\n",
    "                  'Precision' : precision,\n",
    "                  'Recall' : sensitivity,\n",
    "                  'F1 Score' : f1Score,\n",
    "                  'Specificity' : specificity,\n",
    "                  'ROC_AUC_Score':roc_auc_score(y_test, prediction),\n",
    "                  'Balanced Accuracy':balanced_accuracy}   \n",
    "    res = res.append(model_dict,ignore_index=True)"
   ]
  },
  {
   "cell_type": "code",
   "execution_count": 25,
   "id": "e13f0aba",
   "metadata": {
    "execution": {
     "iopub.execute_input": "2023-02-22T17:42:40.839223Z",
     "iopub.status.busy": "2023-02-22T17:42:40.838726Z",
     "iopub.status.idle": "2023-02-22T17:42:40.868652Z",
     "shell.execute_reply": "2023-02-22T17:42:40.867687Z"
    },
    "papermill": {
     "duration": 0.056037,
     "end_time": "2023-02-22T17:42:40.871112",
     "exception": false,
     "start_time": "2023-02-22T17:42:40.815075",
     "status": "completed"
    },
    "tags": []
   },
   "outputs": [
    {
     "data": {
      "text/html": [
       "<div>\n",
       "<style scoped>\n",
       "    .dataframe tbody tr th:only-of-type {\n",
       "        vertical-align: middle;\n",
       "    }\n",
       "\n",
       "    .dataframe tbody tr th {\n",
       "        vertical-align: top;\n",
       "    }\n",
       "\n",
       "    .dataframe thead th {\n",
       "        text-align: right;\n",
       "    }\n",
       "</style>\n",
       "<table border=\"1\" class=\"dataframe\">\n",
       "  <thead>\n",
       "    <tr style=\"text-align: right;\">\n",
       "      <th></th>\n",
       "      <th>models</th>\n",
       "      <th>Accuracy</th>\n",
       "      <th>Precision</th>\n",
       "      <th>Recall</th>\n",
       "      <th>F1 Score</th>\n",
       "      <th>True Positive</th>\n",
       "      <th>False Negative</th>\n",
       "      <th>False Positive</th>\n",
       "      <th>True Negative</th>\n",
       "    </tr>\n",
       "  </thead>\n",
       "  <tbody>\n",
       "    <tr>\n",
       "      <th>0</th>\n",
       "      <td>RandomForestClassifier</td>\n",
       "      <td>0.885</td>\n",
       "      <td>0.904</td>\n",
       "      <td>0.862</td>\n",
       "      <td>0.882</td>\n",
       "      <td>57547.0</td>\n",
       "      <td>9228.0</td>\n",
       "      <td>6113.0</td>\n",
       "      <td>60872.0</td>\n",
       "    </tr>\n",
       "    <tr>\n",
       "      <th>1</th>\n",
       "      <td>DecisionTreeClassifier</td>\n",
       "      <td>0.879</td>\n",
       "      <td>0.885</td>\n",
       "      <td>0.870</td>\n",
       "      <td>0.877</td>\n",
       "      <td>58080.0</td>\n",
       "      <td>8695.0</td>\n",
       "      <td>7528.0</td>\n",
       "      <td>59457.0</td>\n",
       "    </tr>\n",
       "    <tr>\n",
       "      <th>2</th>\n",
       "      <td>LogisticRegression</td>\n",
       "      <td>0.814</td>\n",
       "      <td>0.874</td>\n",
       "      <td>0.733</td>\n",
       "      <td>0.797</td>\n",
       "      <td>48929.0</td>\n",
       "      <td>17846.0</td>\n",
       "      <td>7070.0</td>\n",
       "      <td>59915.0</td>\n",
       "    </tr>\n",
       "  </tbody>\n",
       "</table>\n",
       "</div>"
      ],
      "text/plain": [
       "                   models  Accuracy  Precision  Recall  F1 Score  \\\n",
       "0  RandomForestClassifier     0.885      0.904   0.862     0.882   \n",
       "1  DecisionTreeClassifier     0.879      0.885   0.870     0.877   \n",
       "2      LogisticRegression     0.814      0.874   0.733     0.797   \n",
       "\n",
       "   True Positive  False Negative  False Positive  True Negative  \n",
       "0        57547.0          9228.0          6113.0        60872.0  \n",
       "1        58080.0          8695.0          7528.0        59457.0  \n",
       "2        48929.0         17846.0          7070.0        59915.0  "
      ]
     },
     "execution_count": 25,
     "metadata": {},
     "output_type": "execute_result"
    }
   ],
   "source": [
    "models={'models':['LogisticRegression','DecisionTreeClassifier','RandomForestClassifier']}\n",
    "out=pd.DataFrame(models)\n",
    "out['Accuracy']=res['Accuracy']\n",
    "out['Precision']=res['Precision']\n",
    "out['Recall']=res['Recall']\n",
    "out['F1 Score']=res['F1 Score']\n",
    "out['True Positive']=res['True Positive']\n",
    "out['False Negative']=res['False Negative']\n",
    "out['False Positive']=res['False Positive']\n",
    "out['True Negative']=res['True Negative']\n",
    "out.sort_values(by=['Accuracy','F1 Score','Recall','Precision'],ascending=False,inplace=True)\n",
    "out.reset_index(drop=True,inplace=True)\n",
    "out"
   ]
  },
  {
   "cell_type": "code",
   "execution_count": 26,
   "id": "1a0fcdb5",
   "metadata": {
    "execution": {
     "iopub.execute_input": "2023-02-22T17:42:40.918432Z",
     "iopub.status.busy": "2023-02-22T17:42:40.917743Z",
     "iopub.status.idle": "2023-02-22T17:42:46.775548Z",
     "shell.execute_reply": "2023-02-22T17:42:46.774361Z"
    },
    "papermill": {
     "duration": 5.886462,
     "end_time": "2023-02-22T17:42:46.779870",
     "exception": false,
     "start_time": "2023-02-22T17:42:40.893408",
     "status": "completed"
    },
    "tags": []
   },
   "outputs": [
    {
     "data": {
      "text/html": [
       "<div>\n",
       "<style scoped>\n",
       "    .dataframe tbody tr th:only-of-type {\n",
       "        vertical-align: middle;\n",
       "    }\n",
       "\n",
       "    .dataframe tbody tr th {\n",
       "        vertical-align: top;\n",
       "    }\n",
       "\n",
       "    .dataframe thead th {\n",
       "        text-align: right;\n",
       "    }\n",
       "</style>\n",
       "<table border=\"1\" class=\"dataframe\">\n",
       "  <thead>\n",
       "    <tr style=\"text-align: right;\">\n",
       "      <th></th>\n",
       "      <th>Gender</th>\n",
       "      <th>Age</th>\n",
       "      <th>Driving_License</th>\n",
       "      <th>Region_Code</th>\n",
       "      <th>Previously_Insured</th>\n",
       "      <th>Vehicle_Damage</th>\n",
       "      <th>Annual_Premium</th>\n",
       "      <th>Policy_Sales_Channel</th>\n",
       "      <th>Vintage</th>\n",
       "      <th>Response</th>\n",
       "      <th>Vehicle_Age_&lt; 1 Year</th>\n",
       "      <th>Vehicle_Age_&gt; 2 Years</th>\n",
       "      <th>actual</th>\n",
       "      <th>predicted</th>\n",
       "    </tr>\n",
       "  </thead>\n",
       "  <tbody>\n",
       "    <tr>\n",
       "      <th>110367</th>\n",
       "      <td>0</td>\n",
       "      <td>22</td>\n",
       "      <td>1</td>\n",
       "      <td>7.0</td>\n",
       "      <td>1</td>\n",
       "      <td>0</td>\n",
       "      <td>2630.0</td>\n",
       "      <td>152.0</td>\n",
       "      <td>200</td>\n",
       "      <td>0</td>\n",
       "      <td>1</td>\n",
       "      <td>0</td>\n",
       "      <td>No</td>\n",
       "      <td>No</td>\n",
       "    </tr>\n",
       "    <tr>\n",
       "      <th>128962</th>\n",
       "      <td>0</td>\n",
       "      <td>25</td>\n",
       "      <td>1</td>\n",
       "      <td>27.0</td>\n",
       "      <td>0</td>\n",
       "      <td>1</td>\n",
       "      <td>27291.0</td>\n",
       "      <td>151.0</td>\n",
       "      <td>77</td>\n",
       "      <td>0</td>\n",
       "      <td>1</td>\n",
       "      <td>0</td>\n",
       "      <td>No</td>\n",
       "      <td>No</td>\n",
       "    </tr>\n",
       "    <tr>\n",
       "      <th>111533</th>\n",
       "      <td>1</td>\n",
       "      <td>59</td>\n",
       "      <td>1</td>\n",
       "      <td>28.0</td>\n",
       "      <td>0</td>\n",
       "      <td>1</td>\n",
       "      <td>39882.0</td>\n",
       "      <td>124.0</td>\n",
       "      <td>113</td>\n",
       "      <td>1</td>\n",
       "      <td>0</td>\n",
       "      <td>0</td>\n",
       "      <td>Yes</td>\n",
       "      <td>No</td>\n",
       "    </tr>\n",
       "    <tr>\n",
       "      <th>347875</th>\n",
       "      <td>0</td>\n",
       "      <td>28</td>\n",
       "      <td>1</td>\n",
       "      <td>42.0</td>\n",
       "      <td>1</td>\n",
       "      <td>0</td>\n",
       "      <td>2630.0</td>\n",
       "      <td>160.0</td>\n",
       "      <td>296</td>\n",
       "      <td>0</td>\n",
       "      <td>1</td>\n",
       "      <td>0</td>\n",
       "      <td>No</td>\n",
       "      <td>No</td>\n",
       "    </tr>\n",
       "    <tr>\n",
       "      <th>203974</th>\n",
       "      <td>0</td>\n",
       "      <td>23</td>\n",
       "      <td>1</td>\n",
       "      <td>15.0</td>\n",
       "      <td>0</td>\n",
       "      <td>1</td>\n",
       "      <td>40043.0</td>\n",
       "      <td>152.0</td>\n",
       "      <td>84</td>\n",
       "      <td>0</td>\n",
       "      <td>1</td>\n",
       "      <td>0</td>\n",
       "      <td>No</td>\n",
       "      <td>No</td>\n",
       "    </tr>\n",
       "    <tr>\n",
       "      <th>3275</th>\n",
       "      <td>1</td>\n",
       "      <td>47</td>\n",
       "      <td>1</td>\n",
       "      <td>30.0</td>\n",
       "      <td>0</td>\n",
       "      <td>1</td>\n",
       "      <td>25211.0</td>\n",
       "      <td>124.0</td>\n",
       "      <td>213</td>\n",
       "      <td>0</td>\n",
       "      <td>0</td>\n",
       "      <td>0</td>\n",
       "      <td>No</td>\n",
       "      <td>Yes</td>\n",
       "    </tr>\n",
       "    <tr>\n",
       "      <th>95252</th>\n",
       "      <td>1</td>\n",
       "      <td>49</td>\n",
       "      <td>1</td>\n",
       "      <td>52.0</td>\n",
       "      <td>0</td>\n",
       "      <td>1</td>\n",
       "      <td>37907.0</td>\n",
       "      <td>26.0</td>\n",
       "      <td>150</td>\n",
       "      <td>1</td>\n",
       "      <td>0</td>\n",
       "      <td>1</td>\n",
       "      <td>Yes</td>\n",
       "      <td>No</td>\n",
       "    </tr>\n",
       "    <tr>\n",
       "      <th>183624</th>\n",
       "      <td>0</td>\n",
       "      <td>25</td>\n",
       "      <td>1</td>\n",
       "      <td>28.0</td>\n",
       "      <td>1</td>\n",
       "      <td>0</td>\n",
       "      <td>36059.0</td>\n",
       "      <td>124.0</td>\n",
       "      <td>145</td>\n",
       "      <td>0</td>\n",
       "      <td>1</td>\n",
       "      <td>0</td>\n",
       "      <td>No</td>\n",
       "      <td>No</td>\n",
       "    </tr>\n",
       "    <tr>\n",
       "      <th>195228</th>\n",
       "      <td>1</td>\n",
       "      <td>42</td>\n",
       "      <td>1</td>\n",
       "      <td>33.0</td>\n",
       "      <td>0</td>\n",
       "      <td>1</td>\n",
       "      <td>27200.0</td>\n",
       "      <td>124.0</td>\n",
       "      <td>14</td>\n",
       "      <td>0</td>\n",
       "      <td>0</td>\n",
       "      <td>0</td>\n",
       "      <td>No</td>\n",
       "      <td>No</td>\n",
       "    </tr>\n",
       "    <tr>\n",
       "      <th>166632</th>\n",
       "      <td>1</td>\n",
       "      <td>44</td>\n",
       "      <td>1</td>\n",
       "      <td>28.0</td>\n",
       "      <td>0</td>\n",
       "      <td>1</td>\n",
       "      <td>31106.0</td>\n",
       "      <td>60.0</td>\n",
       "      <td>63</td>\n",
       "      <td>0</td>\n",
       "      <td>0</td>\n",
       "      <td>0</td>\n",
       "      <td>No</td>\n",
       "      <td>No</td>\n",
       "    </tr>\n",
       "    <tr>\n",
       "      <th>141329</th>\n",
       "      <td>1</td>\n",
       "      <td>34</td>\n",
       "      <td>1</td>\n",
       "      <td>46.0</td>\n",
       "      <td>0</td>\n",
       "      <td>1</td>\n",
       "      <td>30996.0</td>\n",
       "      <td>124.0</td>\n",
       "      <td>63</td>\n",
       "      <td>1</td>\n",
       "      <td>0</td>\n",
       "      <td>0</td>\n",
       "      <td>Yes</td>\n",
       "      <td>No</td>\n",
       "    </tr>\n",
       "    <tr>\n",
       "      <th>1052</th>\n",
       "      <td>0</td>\n",
       "      <td>53</td>\n",
       "      <td>1</td>\n",
       "      <td>28.0</td>\n",
       "      <td>1</td>\n",
       "      <td>0</td>\n",
       "      <td>31164.0</td>\n",
       "      <td>13.0</td>\n",
       "      <td>202</td>\n",
       "      <td>0</td>\n",
       "      <td>0</td>\n",
       "      <td>0</td>\n",
       "      <td>No</td>\n",
       "      <td>No</td>\n",
       "    </tr>\n",
       "    <tr>\n",
       "      <th>331099</th>\n",
       "      <td>0</td>\n",
       "      <td>29</td>\n",
       "      <td>1</td>\n",
       "      <td>37.0</td>\n",
       "      <td>0</td>\n",
       "      <td>0</td>\n",
       "      <td>36347.0</td>\n",
       "      <td>152.0</td>\n",
       "      <td>239</td>\n",
       "      <td>0</td>\n",
       "      <td>1</td>\n",
       "      <td>0</td>\n",
       "      <td>No</td>\n",
       "      <td>No</td>\n",
       "    </tr>\n",
       "    <tr>\n",
       "      <th>241745</th>\n",
       "      <td>0</td>\n",
       "      <td>22</td>\n",
       "      <td>1</td>\n",
       "      <td>22.0</td>\n",
       "      <td>1</td>\n",
       "      <td>0</td>\n",
       "      <td>28579.0</td>\n",
       "      <td>152.0</td>\n",
       "      <td>101</td>\n",
       "      <td>0</td>\n",
       "      <td>1</td>\n",
       "      <td>0</td>\n",
       "      <td>No</td>\n",
       "      <td>No</td>\n",
       "    </tr>\n",
       "    <tr>\n",
       "      <th>202368</th>\n",
       "      <td>1</td>\n",
       "      <td>24</td>\n",
       "      <td>1</td>\n",
       "      <td>9.0</td>\n",
       "      <td>0</td>\n",
       "      <td>1</td>\n",
       "      <td>2630.0</td>\n",
       "      <td>160.0</td>\n",
       "      <td>202</td>\n",
       "      <td>0</td>\n",
       "      <td>1</td>\n",
       "      <td>0</td>\n",
       "      <td>No</td>\n",
       "      <td>No</td>\n",
       "    </tr>\n",
       "    <tr>\n",
       "      <th>109742</th>\n",
       "      <td>0</td>\n",
       "      <td>33</td>\n",
       "      <td>1</td>\n",
       "      <td>28.0</td>\n",
       "      <td>0</td>\n",
       "      <td>1</td>\n",
       "      <td>64516.0</td>\n",
       "      <td>124.0</td>\n",
       "      <td>18</td>\n",
       "      <td>0</td>\n",
       "      <td>1</td>\n",
       "      <td>0</td>\n",
       "      <td>No</td>\n",
       "      <td>No</td>\n",
       "    </tr>\n",
       "    <tr>\n",
       "      <th>340569</th>\n",
       "      <td>1</td>\n",
       "      <td>49</td>\n",
       "      <td>1</td>\n",
       "      <td>46.0</td>\n",
       "      <td>0</td>\n",
       "      <td>1</td>\n",
       "      <td>29628.0</td>\n",
       "      <td>124.0</td>\n",
       "      <td>128</td>\n",
       "      <td>0</td>\n",
       "      <td>0</td>\n",
       "      <td>1</td>\n",
       "      <td>No</td>\n",
       "      <td>No</td>\n",
       "    </tr>\n",
       "    <tr>\n",
       "      <th>216934</th>\n",
       "      <td>0</td>\n",
       "      <td>21</td>\n",
       "      <td>1</td>\n",
       "      <td>25.0</td>\n",
       "      <td>0</td>\n",
       "      <td>1</td>\n",
       "      <td>46721.0</td>\n",
       "      <td>160.0</td>\n",
       "      <td>68</td>\n",
       "      <td>0</td>\n",
       "      <td>1</td>\n",
       "      <td>0</td>\n",
       "      <td>No</td>\n",
       "      <td>No</td>\n",
       "    </tr>\n",
       "    <tr>\n",
       "      <th>55334</th>\n",
       "      <td>0</td>\n",
       "      <td>25</td>\n",
       "      <td>1</td>\n",
       "      <td>41.0</td>\n",
       "      <td>1</td>\n",
       "      <td>0</td>\n",
       "      <td>17503.0</td>\n",
       "      <td>152.0</td>\n",
       "      <td>141</td>\n",
       "      <td>0</td>\n",
       "      <td>1</td>\n",
       "      <td>0</td>\n",
       "      <td>No</td>\n",
       "      <td>No</td>\n",
       "    </tr>\n",
       "    <tr>\n",
       "      <th>370651</th>\n",
       "      <td>1</td>\n",
       "      <td>59</td>\n",
       "      <td>1</td>\n",
       "      <td>28.0</td>\n",
       "      <td>1</td>\n",
       "      <td>0</td>\n",
       "      <td>44014.0</td>\n",
       "      <td>24.0</td>\n",
       "      <td>11</td>\n",
       "      <td>0</td>\n",
       "      <td>0</td>\n",
       "      <td>0</td>\n",
       "      <td>No</td>\n",
       "      <td>No</td>\n",
       "    </tr>\n",
       "  </tbody>\n",
       "</table>\n",
       "</div>"
      ],
      "text/plain": [
       "        Gender  Age  Driving_License  Region_Code  Previously_Insured  \\\n",
       "110367       0   22                1          7.0                   1   \n",
       "128962       0   25                1         27.0                   0   \n",
       "111533       1   59                1         28.0                   0   \n",
       "347875       0   28                1         42.0                   1   \n",
       "203974       0   23                1         15.0                   0   \n",
       "3275         1   47                1         30.0                   0   \n",
       "95252        1   49                1         52.0                   0   \n",
       "183624       0   25                1         28.0                   1   \n",
       "195228       1   42                1         33.0                   0   \n",
       "166632       1   44                1         28.0                   0   \n",
       "141329       1   34                1         46.0                   0   \n",
       "1052         0   53                1         28.0                   1   \n",
       "331099       0   29                1         37.0                   0   \n",
       "241745       0   22                1         22.0                   1   \n",
       "202368       1   24                1          9.0                   0   \n",
       "109742       0   33                1         28.0                   0   \n",
       "340569       1   49                1         46.0                   0   \n",
       "216934       0   21                1         25.0                   0   \n",
       "55334        0   25                1         41.0                   1   \n",
       "370651       1   59                1         28.0                   1   \n",
       "\n",
       "        Vehicle_Damage  Annual_Premium  Policy_Sales_Channel  Vintage  \\\n",
       "110367               0          2630.0                 152.0      200   \n",
       "128962               1         27291.0                 151.0       77   \n",
       "111533               1         39882.0                 124.0      113   \n",
       "347875               0          2630.0                 160.0      296   \n",
       "203974               1         40043.0                 152.0       84   \n",
       "3275                 1         25211.0                 124.0      213   \n",
       "95252                1         37907.0                  26.0      150   \n",
       "183624               0         36059.0                 124.0      145   \n",
       "195228               1         27200.0                 124.0       14   \n",
       "166632               1         31106.0                  60.0       63   \n",
       "141329               1         30996.0                 124.0       63   \n",
       "1052                 0         31164.0                  13.0      202   \n",
       "331099               0         36347.0                 152.0      239   \n",
       "241745               0         28579.0                 152.0      101   \n",
       "202368               1          2630.0                 160.0      202   \n",
       "109742               1         64516.0                 124.0       18   \n",
       "340569               1         29628.0                 124.0      128   \n",
       "216934               1         46721.0                 160.0       68   \n",
       "55334                0         17503.0                 152.0      141   \n",
       "370651               0         44014.0                  24.0       11   \n",
       "\n",
       "        Response  Vehicle_Age_< 1 Year  Vehicle_Age_> 2 Years actual predicted  \n",
       "110367         0                     1                      0     No        No  \n",
       "128962         0                     1                      0     No        No  \n",
       "111533         1                     0                      0    Yes        No  \n",
       "347875         0                     1                      0     No        No  \n",
       "203974         0                     1                      0     No        No  \n",
       "3275           0                     0                      0     No       Yes  \n",
       "95252          1                     0                      1    Yes        No  \n",
       "183624         0                     1                      0     No        No  \n",
       "195228         0                     0                      0     No        No  \n",
       "166632         0                     0                      0     No        No  \n",
       "141329         1                     0                      0    Yes        No  \n",
       "1052           0                     0                      0     No        No  \n",
       "331099         0                     1                      0     No        No  \n",
       "241745         0                     1                      0     No        No  \n",
       "202368         0                     1                      0     No        No  \n",
       "109742         0                     1                      0     No        No  \n",
       "340569         0                     0                      1     No        No  \n",
       "216934         0                     1                      0     No        No  \n",
       "55334          0                     1                      0     No        No  \n",
       "370651         0                     0                      0     No        No  "
      ]
     },
     "execution_count": 26,
     "metadata": {},
     "output_type": "execute_result"
    }
   ],
   "source": [
    "y_pred=rf.predict(X_test)\n",
    "out=pd.DataFrame({'actual':y_test,'predicted':y_pred})\n",
    "out=df_train1.merge(out,left_index=True,right_index=True)\n",
    "out['actual'].replace(1,'Yes',inplace=True)\n",
    "out['actual'].replace(0,'No',inplace=True)\n",
    "out['predicted'].replace(1,'Yes',inplace=True)\n",
    "out['predicted'].replace(0,'No',inplace=True)\n",
    "out.sample(20)"
   ]
  },
  {
   "cell_type": "code",
   "execution_count": 27,
   "id": "67d11aaf",
   "metadata": {
    "papermill": {
     "duration": 0.023087,
     "end_time": "2023-02-22T17:42:46.826630",
     "exception": false,
     "start_time": "2023-02-22T17:42:46.803543",
     "status": "completed"
    },
    "tags": []
   },
   "outputs": [
    {
     "data": {
      "text/plain": [
       "array([0], dtype=int64)"
      ]
     },
     "execution_count": 27,
     "metadata": {},
     "output_type": "execute_result"
    }
   ],
   "source": [
    "temp=pd.DataFrame([[1,42,1,15.0,1,30396,124,27,0,0,0]])\n",
    "rf.predict(temp)"
   ]
  },
  {
   "cell_type": "code",
   "execution_count": 28,
   "id": "c8c40da3",
   "metadata": {},
   "outputs": [
    {
     "data": {
      "text/plain": [
       "array([[0., 0., 1., ..., 0., 0., 1.]])"
      ]
     },
     "execution_count": 28,
     "metadata": {},
     "output_type": "execute_result"
    }
   ],
   "source": [
    "(np.array(np.array(X_test[0]).reshape(1,-1)))"
   ]
  },
  {
   "cell_type": "code",
   "execution_count": 29,
   "id": "6686a82e",
   "metadata": {},
   "outputs": [],
   "source": [
    "import pickle"
   ]
  },
  {
   "cell_type": "code",
   "execution_count": 30,
   "id": "10b57bf6",
   "metadata": {},
   "outputs": [],
   "source": [
    "pickle.dump(rf,open(\"model.pkl\",\"wb\"))"
   ]
  },
  {
   "cell_type": "code",
   "execution_count": 58,
   "id": "75f6c7fc",
   "metadata": {},
   "outputs": [],
   "source": [
    "mod=pickle.load(open(\"model.pkl\",\"rb\"))"
   ]
  },
  {
   "cell_type": "code",
   "execution_count": 59,
   "id": "86f5b986",
   "metadata": {},
   "outputs": [
    {
     "data": {
      "text/plain": [
       "RandomForestClassifier()"
      ]
     },
     "execution_count": 59,
     "metadata": {},
     "output_type": "execute_result"
    }
   ],
   "source": [
    "mod"
   ]
  },
  {
   "cell_type": "code",
   "execution_count": 31,
   "id": "e837c62d",
   "metadata": {},
   "outputs": [
    {
     "ename": "ValueError",
     "evalue": "X has 133760 features, but DecisionTreeClassifier is expecting 11 features as input.",
     "output_type": "error",
     "traceback": [
      "\u001b[1;31m---------------------------------------------------------------------------\u001b[0m",
      "\u001b[1;31mValueError\u001b[0m                                Traceback (most recent call last)",
      "\u001b[1;32m~\\AppData\\Local\\Temp/ipykernel_19152/3064821605.py\u001b[0m in \u001b[0;36m<module>\u001b[1;34m\u001b[0m\n\u001b[1;32m----> 1\u001b[1;33m \u001b[0mrf\u001b[0m\u001b[1;33m.\u001b[0m\u001b[0mpredict\u001b[0m\u001b[1;33m(\u001b[0m\u001b[1;33m(\u001b[0m\u001b[0mnp\u001b[0m\u001b[1;33m.\u001b[0m\u001b[0marray\u001b[0m\u001b[1;33m(\u001b[0m\u001b[0mnp\u001b[0m\u001b[1;33m.\u001b[0m\u001b[0marray\u001b[0m\u001b[1;33m(\u001b[0m\u001b[0mX_test\u001b[0m\u001b[1;33m[\u001b[0m\u001b[1;36m0\u001b[0m\u001b[1;33m]\u001b[0m\u001b[1;33m)\u001b[0m\u001b[1;33m.\u001b[0m\u001b[0mreshape\u001b[0m\u001b[1;33m(\u001b[0m\u001b[1;36m1\u001b[0m\u001b[1;33m,\u001b[0m\u001b[1;33m-\u001b[0m\u001b[1;36m1\u001b[0m\u001b[1;33m)\u001b[0m\u001b[1;33m)\u001b[0m\u001b[1;33m)\u001b[0m\u001b[1;33m)\u001b[0m\u001b[1;33m\u001b[0m\u001b[1;33m\u001b[0m\u001b[0m\n\u001b[0m",
      "\u001b[1;32mi:\\PYTHON\\PYTHON SYSTEM FILES\\lib\\site-packages\\sklearn\\ensemble\\_forest.py\u001b[0m in \u001b[0;36mpredict\u001b[1;34m(self, X)\u001b[0m\n\u001b[0;32m    628\u001b[0m             \u001b[0mThe\u001b[0m \u001b[0mpredicted\u001b[0m \u001b[0mclasses\u001b[0m\u001b[1;33m.\u001b[0m\u001b[1;33m\u001b[0m\u001b[1;33m\u001b[0m\u001b[0m\n\u001b[0;32m    629\u001b[0m         \"\"\"\n\u001b[1;32m--> 630\u001b[1;33m         \u001b[0mproba\u001b[0m \u001b[1;33m=\u001b[0m \u001b[0mself\u001b[0m\u001b[1;33m.\u001b[0m\u001b[0mpredict_proba\u001b[0m\u001b[1;33m(\u001b[0m\u001b[0mX\u001b[0m\u001b[1;33m)\u001b[0m\u001b[1;33m\u001b[0m\u001b[1;33m\u001b[0m\u001b[0m\n\u001b[0m\u001b[0;32m    631\u001b[0m \u001b[1;33m\u001b[0m\u001b[0m\n\u001b[0;32m    632\u001b[0m         \u001b[1;32mif\u001b[0m \u001b[0mself\u001b[0m\u001b[1;33m.\u001b[0m\u001b[0mn_outputs_\u001b[0m \u001b[1;33m==\u001b[0m \u001b[1;36m1\u001b[0m\u001b[1;33m:\u001b[0m\u001b[1;33m\u001b[0m\u001b[1;33m\u001b[0m\u001b[0m\n",
      "\u001b[1;32mi:\\PYTHON\\PYTHON SYSTEM FILES\\lib\\site-packages\\sklearn\\ensemble\\_forest.py\u001b[0m in \u001b[0;36mpredict_proba\u001b[1;34m(self, X)\u001b[0m\n\u001b[0;32m    672\u001b[0m         \u001b[0mcheck_is_fitted\u001b[0m\u001b[1;33m(\u001b[0m\u001b[0mself\u001b[0m\u001b[1;33m)\u001b[0m\u001b[1;33m\u001b[0m\u001b[1;33m\u001b[0m\u001b[0m\n\u001b[0;32m    673\u001b[0m         \u001b[1;31m# Check data\u001b[0m\u001b[1;33m\u001b[0m\u001b[1;33m\u001b[0m\u001b[1;33m\u001b[0m\u001b[0m\n\u001b[1;32m--> 674\u001b[1;33m         \u001b[0mX\u001b[0m \u001b[1;33m=\u001b[0m \u001b[0mself\u001b[0m\u001b[1;33m.\u001b[0m\u001b[0m_validate_X_predict\u001b[0m\u001b[1;33m(\u001b[0m\u001b[0mX\u001b[0m\u001b[1;33m)\u001b[0m\u001b[1;33m\u001b[0m\u001b[1;33m\u001b[0m\u001b[0m\n\u001b[0m\u001b[0;32m    675\u001b[0m \u001b[1;33m\u001b[0m\u001b[0m\n\u001b[0;32m    676\u001b[0m         \u001b[1;31m# Assign chunk of trees to jobs\u001b[0m\u001b[1;33m\u001b[0m\u001b[1;33m\u001b[0m\u001b[1;33m\u001b[0m\u001b[0m\n",
      "\u001b[1;32mi:\\PYTHON\\PYTHON SYSTEM FILES\\lib\\site-packages\\sklearn\\ensemble\\_forest.py\u001b[0m in \u001b[0;36m_validate_X_predict\u001b[1;34m(self, X)\u001b[0m\n\u001b[0;32m    420\u001b[0m         \u001b[0mcheck_is_fitted\u001b[0m\u001b[1;33m(\u001b[0m\u001b[0mself\u001b[0m\u001b[1;33m)\u001b[0m\u001b[1;33m\u001b[0m\u001b[1;33m\u001b[0m\u001b[0m\n\u001b[0;32m    421\u001b[0m \u001b[1;33m\u001b[0m\u001b[0m\n\u001b[1;32m--> 422\u001b[1;33m         \u001b[1;32mreturn\u001b[0m \u001b[0mself\u001b[0m\u001b[1;33m.\u001b[0m\u001b[0mestimators_\u001b[0m\u001b[1;33m[\u001b[0m\u001b[1;36m0\u001b[0m\u001b[1;33m]\u001b[0m\u001b[1;33m.\u001b[0m\u001b[0m_validate_X_predict\u001b[0m\u001b[1;33m(\u001b[0m\u001b[0mX\u001b[0m\u001b[1;33m,\u001b[0m \u001b[0mcheck_input\u001b[0m\u001b[1;33m=\u001b[0m\u001b[1;32mTrue\u001b[0m\u001b[1;33m)\u001b[0m\u001b[1;33m\u001b[0m\u001b[1;33m\u001b[0m\u001b[0m\n\u001b[0m\u001b[0;32m    423\u001b[0m \u001b[1;33m\u001b[0m\u001b[0m\n\u001b[0;32m    424\u001b[0m     \u001b[1;33m@\u001b[0m\u001b[0mproperty\u001b[0m\u001b[1;33m\u001b[0m\u001b[1;33m\u001b[0m\u001b[0m\n",
      "\u001b[1;32mi:\\PYTHON\\PYTHON SYSTEM FILES\\lib\\site-packages\\sklearn\\tree\\_classes.py\u001b[0m in \u001b[0;36m_validate_X_predict\u001b[1;34m(self, X, check_input)\u001b[0m\n\u001b[0;32m    405\u001b[0m         \u001b[1;34m\"\"\"Validate the training data on predict (probabilities).\"\"\"\u001b[0m\u001b[1;33m\u001b[0m\u001b[1;33m\u001b[0m\u001b[0m\n\u001b[0;32m    406\u001b[0m         \u001b[1;32mif\u001b[0m \u001b[0mcheck_input\u001b[0m\u001b[1;33m:\u001b[0m\u001b[1;33m\u001b[0m\u001b[1;33m\u001b[0m\u001b[0m\n\u001b[1;32m--> 407\u001b[1;33m             X = self._validate_data(X, dtype=DTYPE, accept_sparse=\"csr\",\n\u001b[0m\u001b[0;32m    408\u001b[0m                                     reset=False)\n\u001b[0;32m    409\u001b[0m             if issparse(X) and (X.indices.dtype != np.intc or\n",
      "\u001b[1;32mi:\\PYTHON\\PYTHON SYSTEM FILES\\lib\\site-packages\\sklearn\\base.py\u001b[0m in \u001b[0;36m_validate_data\u001b[1;34m(self, X, y, reset, validate_separately, **check_params)\u001b[0m\n\u001b[0;32m    435\u001b[0m \u001b[1;33m\u001b[0m\u001b[0m\n\u001b[0;32m    436\u001b[0m         \u001b[1;32mif\u001b[0m \u001b[0mcheck_params\u001b[0m\u001b[1;33m.\u001b[0m\u001b[0mget\u001b[0m\u001b[1;33m(\u001b[0m\u001b[1;34m'ensure_2d'\u001b[0m\u001b[1;33m,\u001b[0m \u001b[1;32mTrue\u001b[0m\u001b[1;33m)\u001b[0m\u001b[1;33m:\u001b[0m\u001b[1;33m\u001b[0m\u001b[1;33m\u001b[0m\u001b[0m\n\u001b[1;32m--> 437\u001b[1;33m             \u001b[0mself\u001b[0m\u001b[1;33m.\u001b[0m\u001b[0m_check_n_features\u001b[0m\u001b[1;33m(\u001b[0m\u001b[0mX\u001b[0m\u001b[1;33m,\u001b[0m \u001b[0mreset\u001b[0m\u001b[1;33m=\u001b[0m\u001b[0mreset\u001b[0m\u001b[1;33m)\u001b[0m\u001b[1;33m\u001b[0m\u001b[1;33m\u001b[0m\u001b[0m\n\u001b[0m\u001b[0;32m    438\u001b[0m \u001b[1;33m\u001b[0m\u001b[0m\n\u001b[0;32m    439\u001b[0m         \u001b[1;32mreturn\u001b[0m \u001b[0mout\u001b[0m\u001b[1;33m\u001b[0m\u001b[1;33m\u001b[0m\u001b[0m\n",
      "\u001b[1;32mi:\\PYTHON\\PYTHON SYSTEM FILES\\lib\\site-packages\\sklearn\\base.py\u001b[0m in \u001b[0;36m_check_n_features\u001b[1;34m(self, X, reset)\u001b[0m\n\u001b[0;32m    363\u001b[0m \u001b[1;33m\u001b[0m\u001b[0m\n\u001b[0;32m    364\u001b[0m         \u001b[1;32mif\u001b[0m \u001b[0mn_features\u001b[0m \u001b[1;33m!=\u001b[0m \u001b[0mself\u001b[0m\u001b[1;33m.\u001b[0m\u001b[0mn_features_in_\u001b[0m\u001b[1;33m:\u001b[0m\u001b[1;33m\u001b[0m\u001b[1;33m\u001b[0m\u001b[0m\n\u001b[1;32m--> 365\u001b[1;33m             raise ValueError(\n\u001b[0m\u001b[0;32m    366\u001b[0m                 \u001b[1;34mf\"X has {n_features} features, but {self.__class__.__name__} \"\u001b[0m\u001b[1;33m\u001b[0m\u001b[1;33m\u001b[0m\u001b[0m\n\u001b[0;32m    367\u001b[0m                 f\"is expecting {self.n_features_in_} features as input.\")\n",
      "\u001b[1;31mValueError\u001b[0m: X has 133760 features, but DecisionTreeClassifier is expecting 11 features as input."
     ]
    }
   ],
   "source": [
    "rf.predict((np.array(np.array(X_test[0]).reshape(1,-1))))"
   ]
  },
  {
   "cell_type": "code",
   "execution_count": null,
   "id": "2d633fdb",
   "metadata": {},
   "outputs": [],
   "source": []
  }
 ],
 "metadata": {
  "kernelspec": {
   "display_name": "Python 3 (ipykernel)",
   "language": "python",
   "name": "python3"
  },
  "language_info": {
   "codemirror_mode": {
    "name": "ipython",
    "version": 3
   },
   "file_extension": ".py",
   "mimetype": "text/x-python",
   "name": "python",
   "nbconvert_exporter": "python",
   "pygments_lexer": "ipython3",
   "version": "3.9.6"
  },
  "papermill": {
   "default_parameters": {},
   "duration": 439.848512,
   "end_time": "2023-02-22T17:42:47.976504",
   "environment_variables": {},
   "exception": null,
   "input_path": "__notebook__.ipynb",
   "output_path": "__notebook__.ipynb",
   "parameters": {},
   "start_time": "2023-02-22T17:35:28.127992",
   "version": "2.3.4"
  }
 },
 "nbformat": 4,
 "nbformat_minor": 5
}
